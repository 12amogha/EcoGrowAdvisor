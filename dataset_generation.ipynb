{
 "cells": [
  {
   "cell_type": "code",
   "execution_count": 4,
   "metadata": {},
   "outputs": [
    {
     "name": "stdout",
     "output_type": "stream",
     "text": [
      "Dataset exported to EcoGrow_Advisor_Dataset.csv with 100 entries.\n"
     ]
    }
   ],
   "source": [
    "import pandas as pd\n",
    "import random\n",
    "\n",
    "num_entries = 100 \n",
    "\n",
    "\n",
    "land_parcel_ids = [f'LP{i:03}' for i in range(1, num_entries + 1)]\n",
    "states = ['Karnataka', 'Maharashtra', 'Uttar Pradesh', 'Gujarat', 'Tamil Nadu'] * (num_entries // 5 + 1)\n",
    "districts = ['Bangalore', 'Mumbai', 'Lucknow', 'Ahmedabad', 'Chennai'] * (num_entries // 5 + 1)\n",
    "divisions = ['South', 'West', 'Central', 'North', 'East'] * (num_entries // 5 + 1)\n",
    "latitudes = [random.uniform(8.4, 37.6) for _ in range(num_entries)]  # Random latitude within India's range\n",
    "longitudes = [random.uniform(68.7, 97.4) for _ in range(num_entries)]  # Random longitude within India's range\n",
    "land_areas = [random.uniform(5, 30) for _ in range(num_entries)]  # Random land area in hectares\n",
    "soil_types = ['Red', 'Black', 'Alluvial', 'Laterite', 'Mountain'] * (num_entries // 5 + 1)\n",
    "soil_ph_values = [random.uniform(6.0, 7.5) for _ in range(num_entries)]  # Random soil pH values\n",
    "avg_temperatures = [25 for _ in range(num_entries)]  # Fixed avg temperature in °C\n",
    "avg_rainfalls = [800 for _ in range(num_entries)]  # Fixed avg rainfall in mm/year\n",
    "humidities = [60 for _ in range(num_entries)]  # Fixed humidity percentage\n",
    "slopes = ['10 degrees', 'Flat', 'Slight', 'Moderate', 'Steep'] * (num_entries // 5 + 1)\n",
    "elevations = [150 for _ in range(num_entries)]  # Fixed elevation in meters\n",
    "proximity_to_water = ['500 meters', 'Nearby', 'Adjacent', 'Far', 'Very Far'] * (num_entries // 5 + 1)\n",
    "water_availabilities = ['Moderate', 'High', 'Medium', 'Low', 'Very Low'] * (num_entries // 5 + 1)\n",
    "native_species = [\n",
    "    'Neem, Banyan',\n",
    "    'Teak, Bamboo, Sandalwood',\n",
    "    'Rosewood, Mango, Tamarind',\n",
    "    'Sal, Pine, Oak',\n",
    "    'Mahogany, Eucalyptus, Pine'\n",
    "] * (num_entries // 5 + 1)\n",
    "carbon_sequestration = [20 for _ in range(num_entries)]  # Fixed carbon sequestration in kg CO2/year/tree\n",
    "maintenance_requirements = ['Low', 'Medium', 'High', 'Very High', 'Extreme'] * (num_entries // 5 + 1)\n",
    "growth_periods = [24, 36, 48, 60, 72] * (num_entries // 5 + 1)\n",
    "\n",
    "# Define Cost per hectare\n",
    "cost_per_hectare = [random.uniform(1000, 5000) for _ in range(num_entries)]  \n",
    "\n",
    "# Define Planting Density (trees per hectare) for each species\n",
    "planting_density = [random.randint(500, 2000) for _ in range(num_entries)]  \n",
    "\n",
    "# Create the dataset\n",
    "data = {\n",
    "    'Land Parcel ID': land_parcel_ids,\n",
    "    'State': states[:num_entries],\n",
    "    'District': districts[:num_entries],\n",
    "    'Division': divisions[:num_entries],\n",
    "    'Latitude': latitudes[:num_entries],\n",
    "    'Longitude': longitudes[:num_entries],\n",
    "    'Land Area (hectare)': land_areas[:num_entries],\n",
    "    'Soil Type': soil_types[:num_entries],\n",
    "    'Soil pH': soil_ph_values[:num_entries],\n",
    "    'Avg Temperature (°C)': avg_temperatures[:num_entries],\n",
    "    'Avg Rainfall (mm/year)': avg_rainfalls[:num_entries],\n",
    "    'Humidity (%)': humidities[:num_entries],\n",
    "    'Slope': slopes[:num_entries],\n",
    "    'Elevation (meters)': elevations[:num_entries],\n",
    "    'Proximity to Water': proximity_to_water[:num_entries],\n",
    "    'Water Availability': water_availabilities[:num_entries],\n",
    "    'Native Species': native_species[:num_entries],\n",
    "    'Carbon Sequestration (kg CO2/year/tree)': carbon_sequestration[:num_entries],\n",
    "    'Maintenance Requirements': maintenance_requirements[:num_entries],\n",
    "    'Growth Period (Months)': growth_periods[:num_entries],\n",
    "    'Cost (per hectare)': cost_per_hectare[:num_entries], \n",
    "    'Planting Density (trees per hectare)': planting_density[:num_entries], \n",
    "}\n",
    "\n",
    "df = pd.DataFrame(data)\n",
    "\n",
    "\n",
    "csv_filename = 'EcoGrow_Advisor_Dataset.csv'\n",
    "df.to_csv(csv_filename, index=False)\n",
    "print(f\"Dataset exported to {csv_filename} with {num_entries} entries.\")\n"
   ]
  }
 ],
 "metadata": {
  "kernelspec": {
   "display_name": "Python 3",
   "language": "python",
   "name": "python3"
  },
  "language_info": {
   "codemirror_mode": {
    "name": "ipython",
    "version": 3
   },
   "file_extension": ".py",
   "mimetype": "text/x-python",
   "name": "python",
   "nbconvert_exporter": "python",
   "pygments_lexer": "ipython3",
   "version": "3.12.3"
  }
 },
 "nbformat": 4,
 "nbformat_minor": 2
}
