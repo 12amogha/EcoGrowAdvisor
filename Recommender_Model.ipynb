{
 "cells": [
  {
   "cell_type": "code",
   "execution_count": 1,
   "metadata": {},
   "outputs": [],
   "source": [
    "import pandas as pd\n",
    "from sklearn.preprocessing import MinMaxScaler\n",
    "import pickle\n",
    "\n",
    "# Load dataset\n",
    "df = pd.read_csv('EcoGrow_Advisor_Dataset.csv')\n",
    "\n",
    "numeric_features = ['Growth Period (Months)', 'Land Area (hectare)', \n",
    "                    'Carbon Sequestration (kg CO2/year/tree)', 'Planting Density (trees per hectare)',\n",
    "                    'Cost (per hectare)']\n",
    "\n",
    "def train_and_save_scaler_with_dataset(df, numeric_features, output_filename):\n",
    "    X = df[numeric_features].values\n",
    "    scaler = MinMaxScaler(feature_range=(0, 1))\n",
    "    scaler.fit(X)\n",
    "    with open(output_filename, 'wb') as f:\n",
    "        pickle.dump({'scaler': scaler, 'dataset': df, 'numeric_features': numeric_features}, f)\n",
    "\n",
    "train_and_save_scaler_with_dataset(df, numeric_features, 'EcoGrowAdvisor_Amogha.pkl')\n"
   ]
  }
 ],
 "metadata": {
  "kernelspec": {
   "display_name": "Python 3",
   "language": "python",
   "name": "python3"
  },
  "language_info": {
   "codemirror_mode": {
    "name": "ipython",
    "version": 3
   },
   "file_extension": ".py",
   "mimetype": "text/x-python",
   "name": "python",
   "nbconvert_exporter": "python",
   "pygments_lexer": "ipython3",
   "version": "3.12.3"
  }
 },
 "nbformat": 4,
 "nbformat_minor": 2
}
